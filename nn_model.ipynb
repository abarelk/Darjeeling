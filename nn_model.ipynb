{
 "cells": [
  {
   "cell_type": "code",
   "execution_count": 1,
   "metadata": {
    "collapsed": true
   },
   "outputs": [],
   "source": [
    "import numpy as np\n",
    "\n",
    "\n",
    "def sigmoid(z):\n",
    "    return 1 / (1 + np.exp(-z))\n",
    "\n",
    "\n",
    "def activate(z):\n",
    "    return np.tanh(z)\n",
    "\n",
    "\n",
    "def dActivate(a):\n",
    "    return 1 - np.square(a)\n",
    "\n",
    "\n",
    "def cost(Yh, Y):\n",
    "    \"\"\"\n",
    "    A -- numpy array of size (1, number of examples)\n",
    "    Y -- label vector of size (1, number of examples)\n",
    "    \"\"\"\n",
    "    return (np.dot(Y, np.log(Yh).T) + np.dot((1 - Y), np.log(1 - Yh).T))/-Y.shape[1]\n",
    "\n",
    "\n",
    "def forward_propagate(W, b, Ap):\n",
    "    Z = np.dot(W, Ap) + b\n",
    "    A = activate(Z)\n",
    "    \n",
    "    n_layer = {'Z': Z, 'A': A}\n",
    "    return n_layer\n",
    "\n",
    "\n",
    "def output_backward_propagate(Y, A, Ap):\n",
    "    m = Y.shape[1]\n",
    "    \n",
    "    dZ = A - Y\n",
    "    dW = np.dot(dZ, Ap.T)/m\n",
    "    db = np.sum(dZ, axis=1, keepdims = True)/m\n",
    "    \n",
    "    grad = {'dZ': dZ, 'dW': dW, 'db': db}\n",
    "    return grad\n",
    "    \n",
    "\n",
    "def backward_propagate(A, Ap, dA):     \n",
    "    m = A.shape[1]\n",
    "    \n",
    "    dZ = dA * dActivate(A)\n",
    "    dW = np.dot(dZ, Ap.T)/m\n",
    "    db = np.sum(dZ, axis=1, keepdims = True)/m\n",
    "    \n",
    "    grad = {'dZ': dZ, 'dW': dW, 'db': db}\n",
    "    return grad\n",
    "\n",
    "\n",
    "def nn_model(X, Y, hidden_nodes=(3, 3), learning_rate=0.01, iter=10000, print_th_iter=100):\n",
    "    \"\"\"\n",
    "    X -- data of size (n, number of examples)\n",
    "    Y -- true \"label\" vector of size (1, number of examples)\n",
    "    \"\"\"\n",
    "    for i in range(iter):        \n",
    "        for nl in hidden_nodes:\n",
    "            W = np.random.randn() * 0.01\n",
    "    \n",
    "\n",
    "def logistic_regression(W, b, X, Y, learning_rate=0.01, iter=10000, print_th_iter=100):\n",
    "    \"\"\"\n",
    "    W -- weights, a numpy array of size (n, 1)\n",
    "    b -- bias, a scalar\n",
    "    X -- data of size (n, number of examples)\n",
    "    Y -- true \"label\" vector of size (1, number of examples)\n",
    "    \"\"\"\n",
    "    \n",
    "    for i in range(iter):\n",
    "        grad, c = propagate(W, b, X, Y)\n",
    "        \n",
    "        W -= learning_rate * grad['dw']\n",
    "        b -= learning_rate * grad['db']\n",
    "\n",
    "        if (print_th_line > 0 and i % print_th_line == 0):\n",
    "            print(\"Cost : {0}\".format(c))\n",
    "  \n",
    "    features = {'W':W, 'b': b}\n",
    "    \n",
    "    return grad, features, c \n",
    "\n",
    "\n",
    "def accuracy(W, b, X, Y):\n",
    "    p = predict(W, b, X)\n",
    "    return 100 - np.sum(np.abs(p - Y))/Y.shape[1] * 100\n"
   ]
  },
  {
   "cell_type": "code",
   "execution_count": 2,
   "metadata": {},
   "outputs": [
    {
     "name": "stdout",
     "output_type": "stream",
     "text": [
      "Cost for training set: [[ 0.00089648]]\n",
      "Cost for test set: [[ 2.53831288]]\n",
      "Accuracy of training: 99.91041523235769\n",
      "Accuracy of training: 53.65754757357009\n"
     ]
    }
   ],
   "source": [
    "training_set_X = np.random.randn(10, 5)\n",
    "training_set_Y = np.array([[1, 0, 0, 1, 1]])\n",
    "test_set_X = np.random.randn(10, 5)\n",
    "test_set_Y = np.array([[1, 0, 0, 1, 1]])\n",
    "W = np.zeros([10, 1])\n",
    "b = np.zeros([1, 1])\n",
    "\n",
    "grad, features, c = logistic_regression (W, b, training_set_X, training_set_Y, print_th_line=0)\n",
    "W = features['W']\n",
    "b = features['b']\n",
    "print (\"Cost for training set: {}\".format(c))\n",
    "print (\"Cost for test set: {}\".format(cost(predict(W, b, test_set_X), test_set_Y)))\n",
    "\n",
    "print (\"Accuracy of training: {}\".format(accuracy(W, b, training_set_X, training_set_Y)))\n",
    "print (\"Accuracy of training: {}\".format(accuracy(W, b, test_set_X, test_set_Y)))"
   ]
  },
  {
   "cell_type": "code",
   "execution_count": 3,
   "metadata": {},
   "outputs": [
    {
     "ename": "FileNotFoundError",
     "evalue": "[Errno 2] No such file or directory: 'data/images/22-80'",
     "output_type": "error",
     "traceback": [
      "\u001b[0;31m---------------------------------------------------------------------------\u001b[0m",
      "\u001b[0;31mFileNotFoundError\u001b[0m                         Traceback (most recent call last)",
      "\u001b[0;32m<ipython-input-3-11d243eed972>\u001b[0m in \u001b[0;36m<module>\u001b[0;34m()\u001b[0m\n\u001b[1;32m     30\u001b[0m \u001b[0mimage_path\u001b[0m \u001b[0;34m=\u001b[0m \u001b[0mimage_folder\u001b[0m \u001b[0;34m+\u001b[0m \u001b[0;34m'/22-80-01.jpg'\u001b[0m\u001b[0;34m\u001b[0m\u001b[0m\n\u001b[1;32m     31\u001b[0m \u001b[0;34m\u001b[0m\u001b[0m\n\u001b[0;32m---> 32\u001b[0;31m \u001b[0mfiles\u001b[0m\u001b[0;34m,\u001b[0m \u001b[0mimage_X\u001b[0m \u001b[0;34m=\u001b[0m \u001b[0mload_image_X\u001b[0m\u001b[0;34m(\u001b[0m\u001b[0mimage_folder\u001b[0m\u001b[0;34m,\u001b[0m \u001b[0mnum_px\u001b[0m\u001b[0;34m,\u001b[0m \u001b[0mnum_px\u001b[0m\u001b[0;34m)\u001b[0m\u001b[0;34m\u001b[0m\u001b[0m\n\u001b[0m\u001b[1;32m     33\u001b[0m \u001b[0mprint\u001b[0m\u001b[0;34m(\u001b[0m\u001b[0;34m\"Files: {}, image: {}\"\u001b[0m\u001b[0;34m.\u001b[0m\u001b[0mformat\u001b[0m\u001b[0;34m(\u001b[0m\u001b[0mfiles\u001b[0m\u001b[0;34m.\u001b[0m\u001b[0mshape\u001b[0m\u001b[0;34m,\u001b[0m \u001b[0mimage_X\u001b[0m\u001b[0;34m.\u001b[0m\u001b[0mshape\u001b[0m\u001b[0;34m)\u001b[0m\u001b[0;34m)\u001b[0m\u001b[0;34m\u001b[0m\u001b[0m\n",
      "\u001b[0;32m<ipython-input-3-11d243eed972>\u001b[0m in \u001b[0;36mload_image_X\u001b[0;34m(folder, width, height)\u001b[0m\n\u001b[1;32m     13\u001b[0m \u001b[0;34m\u001b[0m\u001b[0m\n\u001b[1;32m     14\u001b[0m \u001b[0;32mdef\u001b[0m \u001b[0mload_image_X\u001b[0m\u001b[0;34m(\u001b[0m\u001b[0mfolder\u001b[0m\u001b[0;34m,\u001b[0m \u001b[0mwidth\u001b[0m\u001b[0;34m,\u001b[0m \u001b[0mheight\u001b[0m\u001b[0;34m)\u001b[0m\u001b[0;34m:\u001b[0m\u001b[0;34m\u001b[0m\u001b[0m\n\u001b[0;32m---> 15\u001b[0;31m     \u001b[0mfname\u001b[0m \u001b[0;34m=\u001b[0m \u001b[0mnp\u001b[0m\u001b[0;34m.\u001b[0m\u001b[0marray\u001b[0m\u001b[0;34m(\u001b[0m\u001b[0;34m[\u001b[0m\u001b[0;34m[\u001b[0m\u001b[0mf\u001b[0m\u001b[0;34m]\u001b[0m \u001b[0;32mfor\u001b[0m \u001b[0mf\u001b[0m \u001b[0;32min\u001b[0m \u001b[0mos\u001b[0m\u001b[0;34m.\u001b[0m\u001b[0mlistdir\u001b[0m\u001b[0;34m(\u001b[0m\u001b[0mfolder\u001b[0m\u001b[0;34m)\u001b[0m \u001b[0;32mif\u001b[0m \u001b[0mos\u001b[0m\u001b[0;34m.\u001b[0m\u001b[0mpath\u001b[0m\u001b[0;34m.\u001b[0m\u001b[0misfile\u001b[0m\u001b[0;34m(\u001b[0m\u001b[0mos\u001b[0m\u001b[0;34m.\u001b[0m\u001b[0mpath\u001b[0m\u001b[0;34m.\u001b[0m\u001b[0mjoin\u001b[0m\u001b[0;34m(\u001b[0m\u001b[0mfolder\u001b[0m\u001b[0;34m,\u001b[0m \u001b[0mf\u001b[0m\u001b[0;34m)\u001b[0m\u001b[0;34m)\u001b[0m\u001b[0;34m]\u001b[0m\u001b[0;34m)\u001b[0m\u001b[0;34m.\u001b[0m\u001b[0mT\u001b[0m\u001b[0;34m\u001b[0m\u001b[0m\n\u001b[0m\u001b[1;32m     16\u001b[0m     \u001b[0mimg_X\u001b[0m \u001b[0;34m=\u001b[0m \u001b[0mnp\u001b[0m\u001b[0;34m.\u001b[0m\u001b[0mzeros\u001b[0m\u001b[0;34m(\u001b[0m\u001b[0;34m(\u001b[0m\u001b[0mwidth\u001b[0m\u001b[0;34m*\u001b[0m\u001b[0mheight\u001b[0m\u001b[0;34m*\u001b[0m\u001b[0;36m3\u001b[0m\u001b[0;34m,\u001b[0m \u001b[0mfname\u001b[0m\u001b[0;34m.\u001b[0m\u001b[0mshape\u001b[0m\u001b[0;34m[\u001b[0m\u001b[0;36m1\u001b[0m\u001b[0;34m]\u001b[0m\u001b[0;34m)\u001b[0m\u001b[0;34m)\u001b[0m\u001b[0;34m\u001b[0m\u001b[0m\n\u001b[1;32m     17\u001b[0m     \u001b[0mit\u001b[0m \u001b[0;34m=\u001b[0m \u001b[0mnp\u001b[0m\u001b[0;34m.\u001b[0m\u001b[0mnditer\u001b[0m\u001b[0;34m(\u001b[0m\u001b[0mfname\u001b[0m\u001b[0;34m,\u001b[0m \u001b[0mflags\u001b[0m\u001b[0;34m=\u001b[0m\u001b[0;34m[\u001b[0m\u001b[0;34m'f_index'\u001b[0m\u001b[0;34m]\u001b[0m\u001b[0;34m)\u001b[0m\u001b[0;34m\u001b[0m\u001b[0m\n",
      "\u001b[0;31mFileNotFoundError\u001b[0m: [Errno 2] No such file or directory: 'data/images/22-80'"
     ]
    }
   ],
   "source": [
    "import os \n",
    "import imageio\n",
    "import matplotlib.pyplot as plt\n",
    "import skimage.transform as imgxf\n",
    "\n",
    "%matplotlib inline\n",
    "\n",
    "\n",
    "def load_image(img_path, width, height):\n",
    "    img = np.array(imageio.imread(img_path))\n",
    "    return imgxf.resize(img, (width, height), mode='reflect').reshape((1, width*height*3)).T, img\n",
    "    \n",
    "\n",
    "def load_image_X(folder, width, height):\n",
    "    fname = np.array([[f] for f in os.listdir(folder) if os.path.isfile(os.path.join(folder, f))]).T\n",
    "    img_X = np.zeros((width*height*3, fname.shape[1]))\n",
    "    it = np.nditer(fname, flags=['f_index'])\n",
    "    while not it.finished:\n",
    "        print(\"Loading : \", it[0])\n",
    "        fpath = os.path.join(folder, str(it[0]))\n",
    "        x, img = load_image(fpath, width, height)\n",
    "        img_X[:, it.index] = x[:,0]\n",
    "        it.iternext()\n",
    "    \n",
    "    return fname, img_X\n",
    "    \n",
    "\n",
    "num_px = 300\n",
    "image_folder = \"data/images/22-80\"\n",
    "image_path = image_folder + '/22-80-01.jpg'\n",
    "\n",
    "files, image_X = load_image_X(image_folder, num_px, num_px)\n",
    "print(\"Files: {}, image: {}\".format(files.shape, image_X.shape))"
   ]
  },
  {
   "cell_type": "code",
   "execution_count": 4,
   "metadata": {},
   "outputs": [
    {
     "name": "stdout",
     "output_type": "stream",
     "text": [
      "[[-1.73293708]]\n",
      "[[ 0.40687633  0.68986766  1.471552  ]]\n"
     ]
    },
    {
     "data": {
      "text/plain": [
       "array([[-0.70509109, -1.19549725, -2.55010703]])"
      ]
     },
     "execution_count": 4,
     "metadata": {},
     "output_type": "execute_result"
    }
   ],
   "source": [
    "import numpy as np\n",
    "\n",
    "a = np.random.randn(1, 1)\n",
    "b = np.random.randn(1, 3)\n",
    "print(a)\n",
    "print(b)\n",
    "np.dot(a, b)"
   ]
  },
  {
   "cell_type": "code",
   "execution_count": null,
   "metadata": {
    "collapsed": true
   },
   "outputs": [],
   "source": []
  }
 ],
 "metadata": {
  "kernelspec": {
   "display_name": "Python 3",
   "language": "python",
   "name": "python3"
  },
  "language_info": {
   "codemirror_mode": {
    "name": "ipython",
    "version": 3
   },
   "file_extension": ".py",
   "mimetype": "text/x-python",
   "name": "python",
   "nbconvert_exporter": "python",
   "pygments_lexer": "ipython3",
   "version": "3.6.3"
  }
 },
 "nbformat": 4,
 "nbformat_minor": 2
}
