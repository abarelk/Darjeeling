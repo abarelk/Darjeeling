{
 "cells": [
  {
   "cell_type": "code",
   "execution_count": 18,
   "metadata": {
    "collapsed": true
   },
   "outputs": [],
   "source": [
    "import numpy as np\n",
    "\n",
    "\n",
    "def sigmoid(Z):\n",
    "    return 1 / (1 + np.exp(-Z))\n",
    "\n",
    "\n",
    "def sigmoid_backward(A):\n",
    "    return A * (1 - A)\n",
    "\n",
    "\n",
    "def relu(Z):\n",
    "    return np.maximum(0, Z)\n",
    "\n",
    "\n",
    "def relu_backward(Z):\n",
    "    return \n",
    "    \n",
    "\n",
    "def cost(Yh, Y):\n",
    "    \"\"\"\n",
    "    A -- numpy array of size (1, number of examples)\n",
    "    Y -- label vector of size (1, number of examples)\n",
    "    \"\"\"\n",
    "    return (np.dot(Y, np.log(Yh).T) + np.dot((1 - Y), np.log(1 - Yh).T))/-Y.shape[1]\n",
    "\n",
    "\n",
    "def initialize_parameters(layer_dims):\n",
    "    parameters = {}\n",
    "    \n",
    "    for l in range(1, len(layer_dims)):\n",
    "        parameters['W' + str(l)] = np.random.randn(layer_dims[l], layer_dims[l-1])\n",
    "        parameters['b' + str(l)] = np.zeros((layer_dims[l], 1))\n",
    "        \n",
    "    return parameters\n",
    "        \n",
    "\n",
    "def activatef(activation, direction='forward'):\n",
    "    if activation == 'sigmoid':\n",
    "        return sigmoid if direction == 'forward' else sigmoid_backward\n",
    "    else if activation == 'relu':\n",
    "        return relu if direction == 'forward' else relu_backward\n",
    "    \n",
    "\n",
    "def linear_forward_propagate(parameters, X, layer_dims, activation='relu'): \n",
    "    A = X\n",
    "    m = X.shape[1]\n",
    "    \n",
    "    caches = []\n",
    "    L = len(layer_dims)\n",
    "    \n",
    "    activate = activatef(activation)\n",
    "    for l in range(1, L):\n",
    "        Z = np.dot(parameters['W' + str(l)], A) + parameters['b' + str(l)]\n",
    "        if (l != L - 1):\n",
    "            A = activate(Z)\n",
    "        else:\n",
    "            A = sigmoid(Z)            \n",
    "        caches.append((Z, A))\n",
    "    \n",
    "    return A, caches\n",
    "\n",
    "\n",
    "def backward_propagate(cache, Ap, dA, activation='relu'):\n",
    "    Z, A = cache\n",
    "    dZ = dA * activate_backward(Z)\n",
    "    dW = np.dot(dZ, Ap.T)/m\n",
    "    db = np.sum(dZ, axis=1, keepdims=True)/m\n",
    "    dAp = np.dot(W.T, dZ) \n",
    "    \n",
    "    grad = {'dZ': dZ, 'dW': dW, 'db': db}\n",
    "    return dAp, grad\n",
    "\n",
    "    \n",
    "def linear_backward_propagate(parameters, caches, X, Y, layer_dims, activation='relu'):    \n",
    "    L = len(layer_dims)\n",
    "    current_cache = caches[L-1]\n",
    "    A = current_cache[1]\n",
    "    dAL = -np.divide(Y, A) + np.divide(1 - Y, 1 - A)\n",
    "    dZL = A - Y\n",
    "    grads['dA' + str(L)] = dAL\n",
    "    grads['dW' + str(L)] = np.dot(dZL, )\n",
    "    grads['db' + str(L)]    \n",
    "    \n",
    "    activate = activatef(activation)\n",
    "    for l in reversed(range(1, L-1)):\n",
    "        current_cache = caches[l]\n",
    "        grads['dA' + str(l)] = \n",
    "        grads['dW' + str(l)]\n",
    "        grads['db' + str(l)]\n",
    "        \n",
    "    \n",
    "    dZ = A - Y\n",
    "    dW = np.dot(dZ, Ap.T)/m\n",
    "    db = np.sum(dZ, axis=1, keepdims = True)/m\n",
    "    \n",
    "    grad = {'dZ': dZ, 'dW': dW, 'db': db}\n",
    "    return grad\n",
    "    \n",
    "\n",
    "def backward_propagate(A, Ap, dA):     \n",
    "    m = A.shape[1]\n",
    "    \n",
    "    dZ = dA * dActivate(A)\n",
    "    dW = np.dot(dZ, Ap.T)/m\n",
    "    db = np.sum(dZ, axis=1, keepdims = True)/m\n",
    "    \n",
    "    grad = {'dZ': dZ, 'dW': dW, 'db': db}\n",
    "    return grad\n",
    "\n",
    "\n",
    "def nn_model(X, Y, hidden_nodes=(3, 3), learning_rate=0.01, iter=10000, print_th_iter=100):\n",
    "    \"\"\"\n",
    "    X -- data of size (n, number of examples)\n",
    "    Y -- true \"label\" vector of size (1, number of examples)\n",
    "    \"\"\"\n",
    "    for i in range(iter):        \n",
    "        for nl in hidden_nodes:\n",
    "            W = np.random.randn() * 0.01\n",
    "\n",
    "\n",
    "def accuracy(W, b, X, Y):\n",
    "    p = predict(W, b, X)\n",
    "    return 100 - np.sum(np.abs(p - Y))/Y.shape[1] * 100\n"
   ]
  },
  {
   "cell_type": "code",
   "execution_count": 19,
   "metadata": {},
   "outputs": [
    {
     "data": {
      "text/plain": [
       "(array([[ 0.62394827,  0.77776369,  0.78530605,  0.64968868,  0.64189717],\n",
       "        [ 0.55535721,  0.73735732,  0.74434649,  0.62457079,  0.56371896]]),\n",
       " [(array([[-2.98803784,  1.21657403, -2.95782519, -2.51056797, -1.98359606],\n",
       "          [-0.69015729,  1.26078139,  2.17984754,  1.03822216, -2.05231958],\n",
       "          [ 1.19263144, -6.37364929, -2.69631444, -4.63246047,  1.37462599]]),\n",
       "   array([[ 0.        ,  1.21657403,  0.        ,  0.        ,  0.        ],\n",
       "          [ 0.        ,  1.26078139,  2.17984754,  1.03822216,  0.        ],\n",
       "          [ 1.19263144,  0.        ,  0.        ,  0.        ,  1.37462599]])),\n",
       "  (array([[-1.46700601, -0.98151483, -1.3164549 , -0.62700378, -1.69086988],\n",
       "          [-0.74364235,  1.66932577,  1.7281981 ,  0.82310966, -0.85712155],\n",
       "          [ 0.95632468, -0.80944468, -2.49448977, -1.18808059,  1.10225901],\n",
       "          [-0.12134533, -0.17857113, -0.40669366, -0.19370087, -0.13986252]]),\n",
       "   array([[ 0.        ,  0.        ,  0.        ,  0.        ,  0.        ],\n",
       "          [ 0.        ,  1.66932577,  1.7281981 ,  0.82310966,  0.        ],\n",
       "          [ 0.95632468,  0.        ,  0.        ,  0.        ,  1.10225901],\n",
       "          [ 0.        ,  0.        ,  0.        ,  0.        ,  0.        ]])),\n",
       "  (array([[ 0.50634076,  1.25268149,  1.29685997,  0.61767107,  0.58360793],\n",
       "          [ 0.22234028,  1.0322781 ,  1.06868359,  0.50899477,  0.25626922]]),\n",
       "   array([[ 0.62394827,  0.77776369,  0.78530605,  0.64968868,  0.64189717],\n",
       "          [ 0.55535721,  0.73735732,  0.74434649,  0.62457079,  0.56371896]]))])"
      ]
     },
     "execution_count": 19,
     "metadata": {},
     "output_type": "execute_result"
    }
   ],
   "source": [
    "np.random.seed(1)\n",
    "training_set_X = np.random.randn(10, 5)\n",
    "training_set_Y = np.array([[1, 0, 0, 1, 1]])\n",
    "test_set_X = np.random.randn(10, 5)\n",
    "test_set_Y = np.array([[1, 0, 0, 1, 1]])\n",
    "\n",
    "layer_dims = [10, 3, 4, 2]\n",
    "\n",
    "parameters = initialize_parameters(layer_dims)\n",
    "forward_propagate(parameters, training_set_X, layer_dims, 'relu')"
   ]
  },
  {
   "cell_type": "code",
   "execution_count": 3,
   "metadata": {},
   "outputs": [
    {
     "ename": "FileNotFoundError",
     "evalue": "[Errno 2] No such file or directory: 'data/images/22-80'",
     "output_type": "error",
     "traceback": [
      "\u001b[0;31m---------------------------------------------------------------------------\u001b[0m",
      "\u001b[0;31mFileNotFoundError\u001b[0m                         Traceback (most recent call last)",
      "\u001b[0;32m<ipython-input-3-11d243eed972>\u001b[0m in \u001b[0;36m<module>\u001b[0;34m()\u001b[0m\n\u001b[1;32m     30\u001b[0m \u001b[0mimage_path\u001b[0m \u001b[0;34m=\u001b[0m \u001b[0mimage_folder\u001b[0m \u001b[0;34m+\u001b[0m \u001b[0;34m'/22-80-01.jpg'\u001b[0m\u001b[0;34m\u001b[0m\u001b[0m\n\u001b[1;32m     31\u001b[0m \u001b[0;34m\u001b[0m\u001b[0m\n\u001b[0;32m---> 32\u001b[0;31m \u001b[0mfiles\u001b[0m\u001b[0;34m,\u001b[0m \u001b[0mimage_X\u001b[0m \u001b[0;34m=\u001b[0m \u001b[0mload_image_X\u001b[0m\u001b[0;34m(\u001b[0m\u001b[0mimage_folder\u001b[0m\u001b[0;34m,\u001b[0m \u001b[0mnum_px\u001b[0m\u001b[0;34m,\u001b[0m \u001b[0mnum_px\u001b[0m\u001b[0;34m)\u001b[0m\u001b[0;34m\u001b[0m\u001b[0m\n\u001b[0m\u001b[1;32m     33\u001b[0m \u001b[0mprint\u001b[0m\u001b[0;34m(\u001b[0m\u001b[0;34m\"Files: {}, image: {}\"\u001b[0m\u001b[0;34m.\u001b[0m\u001b[0mformat\u001b[0m\u001b[0;34m(\u001b[0m\u001b[0mfiles\u001b[0m\u001b[0;34m.\u001b[0m\u001b[0mshape\u001b[0m\u001b[0;34m,\u001b[0m \u001b[0mimage_X\u001b[0m\u001b[0;34m.\u001b[0m\u001b[0mshape\u001b[0m\u001b[0;34m)\u001b[0m\u001b[0;34m)\u001b[0m\u001b[0;34m\u001b[0m\u001b[0m\n",
      "\u001b[0;32m<ipython-input-3-11d243eed972>\u001b[0m in \u001b[0;36mload_image_X\u001b[0;34m(folder, width, height)\u001b[0m\n\u001b[1;32m     13\u001b[0m \u001b[0;34m\u001b[0m\u001b[0m\n\u001b[1;32m     14\u001b[0m \u001b[0;32mdef\u001b[0m \u001b[0mload_image_X\u001b[0m\u001b[0;34m(\u001b[0m\u001b[0mfolder\u001b[0m\u001b[0;34m,\u001b[0m \u001b[0mwidth\u001b[0m\u001b[0;34m,\u001b[0m \u001b[0mheight\u001b[0m\u001b[0;34m)\u001b[0m\u001b[0;34m:\u001b[0m\u001b[0;34m\u001b[0m\u001b[0m\n\u001b[0;32m---> 15\u001b[0;31m     \u001b[0mfname\u001b[0m \u001b[0;34m=\u001b[0m \u001b[0mnp\u001b[0m\u001b[0;34m.\u001b[0m\u001b[0marray\u001b[0m\u001b[0;34m(\u001b[0m\u001b[0;34m[\u001b[0m\u001b[0;34m[\u001b[0m\u001b[0mf\u001b[0m\u001b[0;34m]\u001b[0m \u001b[0;32mfor\u001b[0m \u001b[0mf\u001b[0m \u001b[0;32min\u001b[0m \u001b[0mos\u001b[0m\u001b[0;34m.\u001b[0m\u001b[0mlistdir\u001b[0m\u001b[0;34m(\u001b[0m\u001b[0mfolder\u001b[0m\u001b[0;34m)\u001b[0m \u001b[0;32mif\u001b[0m \u001b[0mos\u001b[0m\u001b[0;34m.\u001b[0m\u001b[0mpath\u001b[0m\u001b[0;34m.\u001b[0m\u001b[0misfile\u001b[0m\u001b[0;34m(\u001b[0m\u001b[0mos\u001b[0m\u001b[0;34m.\u001b[0m\u001b[0mpath\u001b[0m\u001b[0;34m.\u001b[0m\u001b[0mjoin\u001b[0m\u001b[0;34m(\u001b[0m\u001b[0mfolder\u001b[0m\u001b[0;34m,\u001b[0m \u001b[0mf\u001b[0m\u001b[0;34m)\u001b[0m\u001b[0;34m)\u001b[0m\u001b[0;34m]\u001b[0m\u001b[0;34m)\u001b[0m\u001b[0;34m.\u001b[0m\u001b[0mT\u001b[0m\u001b[0;34m\u001b[0m\u001b[0m\n\u001b[0m\u001b[1;32m     16\u001b[0m     \u001b[0mimg_X\u001b[0m \u001b[0;34m=\u001b[0m \u001b[0mnp\u001b[0m\u001b[0;34m.\u001b[0m\u001b[0mzeros\u001b[0m\u001b[0;34m(\u001b[0m\u001b[0;34m(\u001b[0m\u001b[0mwidth\u001b[0m\u001b[0;34m*\u001b[0m\u001b[0mheight\u001b[0m\u001b[0;34m*\u001b[0m\u001b[0;36m3\u001b[0m\u001b[0;34m,\u001b[0m \u001b[0mfname\u001b[0m\u001b[0;34m.\u001b[0m\u001b[0mshape\u001b[0m\u001b[0;34m[\u001b[0m\u001b[0;36m1\u001b[0m\u001b[0;34m]\u001b[0m\u001b[0;34m)\u001b[0m\u001b[0;34m)\u001b[0m\u001b[0;34m\u001b[0m\u001b[0m\n\u001b[1;32m     17\u001b[0m     \u001b[0mit\u001b[0m \u001b[0;34m=\u001b[0m \u001b[0mnp\u001b[0m\u001b[0;34m.\u001b[0m\u001b[0mnditer\u001b[0m\u001b[0;34m(\u001b[0m\u001b[0mfname\u001b[0m\u001b[0;34m,\u001b[0m \u001b[0mflags\u001b[0m\u001b[0;34m=\u001b[0m\u001b[0;34m[\u001b[0m\u001b[0;34m'f_index'\u001b[0m\u001b[0;34m]\u001b[0m\u001b[0;34m)\u001b[0m\u001b[0;34m\u001b[0m\u001b[0m\n",
      "\u001b[0;31mFileNotFoundError\u001b[0m: [Errno 2] No such file or directory: 'data/images/22-80'"
     ]
    }
   ],
   "source": [
    "import os \n",
    "import imageio\n",
    "import matplotlib.pyplot as plt\n",
    "import skimage.transform as imgxf\n",
    "\n",
    "%matplotlib inline\n",
    "\n",
    "\n",
    "def load_image(img_path, width, height):\n",
    "    img = np.array(imageio.imread(img_path))\n",
    "    return imgxf.resize(img, (width, height), mode='reflect').reshape((1, width*height*3)).T, img\n",
    "    \n",
    "\n",
    "def load_image_X(folder, width, height):\n",
    "    fname = np.array([[f] for f in os.listdir(folder) if os.path.isfile(os.path.join(folder, f))]).T\n",
    "    img_X = np.zeros((width*height*3, fname.shape[1]))\n",
    "    it = np.nditer(fname, flags=['f_index'])\n",
    "    while not it.finished:\n",
    "        print(\"Loading : \", it[0])\n",
    "        fpath = os.path.join(folder, str(it[0]))\n",
    "        x, img = load_image(fpath, width, height)\n",
    "        img_X[:, it.index] = x[:,0]\n",
    "        it.iternext()\n",
    "    \n",
    "    return fname, img_X\n",
    "    \n",
    "\n",
    "num_px = 300\n",
    "image_folder = \"data/images/22-80\"\n",
    "image_path = image_folder + '/22-80-01.jpg'\n",
    "\n",
    "files, image_X = load_image_X(image_folder, num_px, num_px)\n",
    "print(\"Files: {}, image: {}\".format(files.shape, image_X.shape))"
   ]
  },
  {
   "cell_type": "code",
   "execution_count": 4,
   "metadata": {},
   "outputs": [
    {
     "name": "stdout",
     "output_type": "stream",
     "text": [
      "[[-1.73293708]]\n",
      "[[ 0.40687633  0.68986766  1.471552  ]]\n"
     ]
    },
    {
     "data": {
      "text/plain": [
       "array([[-0.70509109, -1.19549725, -2.55010703]])"
      ]
     },
     "execution_count": 4,
     "metadata": {},
     "output_type": "execute_result"
    }
   ],
   "source": [
    "import numpy as np\n",
    "\n",
    "a = np.random.randn(1, 1)\n",
    "b = np.random.randn(1, 3)\n",
    "print(a)\n",
    "print(b)\n",
    "np.dot(a, b)"
   ]
  },
  {
   "cell_type": "code",
   "execution_count": 2,
   "metadata": {},
   "outputs": [
    {
     "ename": "AttributeError",
     "evalue": "module 'numpy' has no attribute 'relu'",
     "output_type": "error",
     "traceback": [
      "\u001b[0;31m---------------------------------------------------------------------------\u001b[0m",
      "\u001b[0;31mAttributeError\u001b[0m                            Traceback (most recent call last)",
      "\u001b[0;32m<ipython-input-2-ff3dc23f3f25>\u001b[0m in \u001b[0;36m<module>\u001b[0;34m()\u001b[0m\n\u001b[1;32m      1\u001b[0m \u001b[0;32mimport\u001b[0m \u001b[0mnumpy\u001b[0m \u001b[0;32mas\u001b[0m \u001b[0mnp\u001b[0m\u001b[0;34m\u001b[0m\u001b[0m\n\u001b[0;32m----> 2\u001b[0;31m \u001b[0mnp\u001b[0m\u001b[0;34m.\u001b[0m\u001b[0mrelu\u001b[0m\u001b[0;34m(\u001b[0m\u001b[0;36m1\u001b[0m\u001b[0;34m)\u001b[0m\u001b[0;34m\u001b[0m\u001b[0m\n\u001b[0m",
      "\u001b[0;31mAttributeError\u001b[0m: module 'numpy' has no attribute 'relu'"
     ]
    }
   ],
   "source": [
    "import numpy as np\n",
    "np.relu(1)"
   ]
  },
  {
   "cell_type": "code",
   "execution_count": null,
   "metadata": {
    "collapsed": true
   },
   "outputs": [],
   "source": []
  }
 ],
 "metadata": {
  "kernelspec": {
   "display_name": "Python 3",
   "language": "python",
   "name": "python3"
  },
  "language_info": {
   "codemirror_mode": {
    "name": "ipython",
    "version": 3
   },
   "file_extension": ".py",
   "mimetype": "text/x-python",
   "name": "python",
   "nbconvert_exporter": "python",
   "pygments_lexer": "ipython3",
   "version": "3.6.3"
  }
 },
 "nbformat": 4,
 "nbformat_minor": 2
}
