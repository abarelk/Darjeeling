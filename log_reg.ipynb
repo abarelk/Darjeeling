{
 "cells": [
  {
   "cell_type": "code",
   "execution_count": 4,
   "metadata": {
    "collapsed": true
   },
   "outputs": [],
   "source": [
    "import numpy as np\n",
    "\n",
    "\n",
    "def sigmoid(z):\n",
    "    return 1 / (1 + np.exp(-z))\n",
    "\n",
    "\n",
    "def predict(W, b, X):\n",
    "    return sigmoid(np.dot(W.T, X) + b)\n",
    "\n",
    "\n",
    "def cost(A, Y):\n",
    "    \"\"\"\n",
    "    A -- numpy array of size (1, number of examples)\n",
    "    Y -- label vector of size (1, number of examples)\n",
    "    \"\"\"\n",
    "    return (np.dot(Y, np.log(A).T) + np.dot((1 - Y), np.log(1-A).T))/-Y.shape[1]\n",
    "\n",
    "\n",
    "def propagate(W, b, X, Y):\n",
    "    A = predict(W, b, X)\n",
    "    dw = np.dot(X, (A - Y).T)\n",
    "    db = np.sum(A - Y)\n",
    "    c = cost(A, Y)    \n",
    "    \n",
    "    grad = {'dw': dw, 'db': db}\n",
    "    return grad, c\n",
    "\n",
    "\n",
    "def optimize(W, b, X, Y, learning_rate=0.01, iter=10000, print_th_line=100):\n",
    "    \"\"\"\n",
    "    W -- weights, a numpy array of size (n, 1)\n",
    "    b -- bias, a scalar\n",
    "    X -- data of size (n, number of examples)\n",
    "    Y -- true \"label\" vector of size (1, number of examples)\n",
    "    \"\"\"\n",
    "    \n",
    "    for i in range(iter):\n",
    "        grad, c = propagate(W, b, X, Y)\n",
    "        \n",
    "        W -= learning_rate * grad['dw']\n",
    "        b -= learning_rate * grad['db']\n",
    "\n",
    "        if (print_th_line > 0 and i % print_th_line == 0):\n",
    "            print(\"Cost : {0}\".format(c))\n",
    "  \n",
    "    features = {'W':W, 'b': b}\n",
    "    \n",
    "    return grad, features, c \n",
    "\n",
    "\n",
    "def accuracy(W, b, X, Y):\n",
    "    p = predict(W, b, X)\n",
    "    return 100 - np.sum(np.abs(p - Y))/Y.shape[1] * 100\n"
   ]
  },
  {
   "cell_type": "code",
   "execution_count": 6,
   "metadata": {},
   "outputs": [
    {
     "name": "stdout",
     "output_type": "stream",
     "text": [
      "Cost for training set: [[ 0.00122035]]\n",
      "Cost for test set: [[ 1.07109178]]\n",
      "Accuracy of training: 99.878078018045\n",
      "Accuracy of training: 55.77832204620917\n"
     ]
    }
   ],
   "source": [
    "training_set_X = np.random.randn(10, 5)\n",
    "training_set_Y = np.array([[1, 0, 0, 1, 1]])\n",
    "test_set_X = np.random.randn(10, 5)\n",
    "test_set_Y = np.array([[1, 0, 0, 1, 1]])\n",
    "W = np.zeros([10, 1])\n",
    "b = np.zeros([1, 1])\n",
    "\n",
    "grad, features, c = optimize (W, b, training_set_X, training_set_Y, print_th_line=0)\n",
    "W = features['W']\n",
    "b = features['b']\n",
    "print (\"Cost for training set: {}\".format(c))\n",
    "print (\"Cost for test set: {}\".format(cost(predict(W, b, test_set_X), test_set_Y)))\n",
    "\n",
    "print (\"Accuracy of training: {}\".format(accuracy(W, b, training_set_X, training_set_Y)))\n",
    "print (\"Accuracy of training: {}\".format(accuracy(W, b, test_set_X, test_set_Y)))"
   ]
  },
  {
   "cell_type": "code",
   "execution_count": 63,
   "metadata": {},
   "outputs": [
    {
     "name": "stdout",
     "output_type": "stream",
     "text": [
      "22-80-01.jpg\n",
      "22-80-02.jpg\n",
      "22-80번지 02-1.jpg\n",
      "22-80번지 03.jpg\n",
      "22-80번지 04.jpg\n",
      "Files: (1, 5), image: (270000, 5)\n"
     ]
    }
   ],
   "source": [
    "import os \n",
    "import imageio\n",
    "import matplotlib.pyplot as plt\n",
    "import skimage.transform as imgxf\n",
    "\n",
    "%matplotlib inline\n",
    "\n",
    "\n",
    "def load_image(img_path, width, height):\n",
    "    img = np.array(imageio.imread(img_path))\n",
    "    return imgxf.resize(img, (width, height), mode='reflect').reshape((1, width*height*3)).T, img\n",
    "    \n",
    "\n",
    "def load_image_X(folder, width, height):\n",
    "    fname = np.array([[f] for f in os.listdir(folder) if os.path.isfile(os.path.join(folder, f))]).T\n",
    "    img_X = np.zeros((width*height*3, fname.shape[1]))\n",
    "    it = np.nditer(fname, flags=['f_index'])\n",
    "    while not it.finished:\n",
    "        print(\"Loading : \", it[0])\n",
    "        fpath = os.path.join(folder, str(it[0]))\n",
    "        x, img = load_image(fpath, width, height)\n",
    "        img_X[:, it.index] = x[:,0]\n",
    "        it.iternext()\n",
    "    \n",
    "    return fname, img_X\n",
    "    \n",
    "\n",
    "num_px = 300\n",
    "image_folder = \"data/images/22-80\"\n",
    "image_path = image_folder + '/22-80-01.jpg'\n",
    "\n",
    "files, image_X = load_image_X(image_folder, num_px, num_px)\n",
    "print(\"Files: {}, image: {}\".format(files.shape, image_X.shape))"
   ]
  },
  {
   "cell_type": "code",
   "execution_count": null,
   "metadata": {
    "collapsed": true
   },
   "outputs": [],
   "source": []
  }
 ],
 "metadata": {
  "kernelspec": {
   "display_name": "Python 3",
   "language": "python",
   "name": "python3"
  },
  "language_info": {
   "codemirror_mode": {
    "name": "ipython",
    "version": 3
   },
   "file_extension": ".py",
   "mimetype": "text/x-python",
   "name": "python",
   "nbconvert_exporter": "python",
   "pygments_lexer": "ipython3",
   "version": "3.6.3"
  }
 },
 "nbformat": 4,
 "nbformat_minor": 2
}
