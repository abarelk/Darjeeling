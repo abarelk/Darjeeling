{
 "cells": [
  {
   "cell_type": "code",
   "execution_count": 73,
   "metadata": {},
   "outputs": [],
   "source": [
    "import numpy as np\n",
    "\n",
    "\n",
    "def sigmoid(z):\n",
    "    return 1 / (1 + np.exp(-z))\n",
    "\n",
    "\n",
    "def predict(W, b, X):\n",
    "    return sigmoid(np.dot(W.T, X) + b)\n",
    "\n",
    "\n",
    "def cost(A, Y):\n",
    "    \"\"\"\n",
    "    A -- numpy array of size (1, number of examples)\n",
    "    Y -- label vector of size (1, number of examples)\n",
    "    \"\"\"\n",
    "    return (np.dot(Y, np.log(A).T) + np.dot((1 - Y), np.log(1-A).T))/-Y.shape[1]\n",
    "\n",
    "\n",
    "def propagate(W, b, X, Y):\n",
    "    A = predict(W, b, X)\n",
    "    dw = np.dot(X, (A - Y).T)\n",
    "    db = np.sum(A - Y)\n",
    "    c = cost(A, Y)    \n",
    "    \n",
    "    grad = {'dw': dw, 'db': db}\n",
    "    return grad, c\n",
    "\n",
    "\n",
    "def optimize(W, b, X, Y, learning_rate=0.01, iter=10000, print_th_line=100):\n",
    "    \"\"\"\n",
    "    W -- weights, a numpy array of size (n, 1)\n",
    "    b -- bias, a scalar\n",
    "    X -- data of size (n, number of examples)\n",
    "    Y -- true \"label\" vector of size (1, number of examples)\n",
    "    \"\"\"\n",
    "    \n",
    "    for i in range(iter):\n",
    "        grad, c = propagate(W, b, X, Y)\n",
    "        \n",
    "        W -= learning_rate * grad['dw']\n",
    "        b -= learning_rate * grad['db']\n",
    "\n",
    "        if (print_th_line > 0 and i % print_th_line == 0):\n",
    "            print(\"Cost : {0}\".format(c))\n",
    "  \n",
    "    grad = {'dw': dw, 'db': db}\n",
    "    features = {'W':W, 'b': b}\n",
    "    \n",
    "    return grad, features, c \n",
    "\n",
    "\n",
    "def accuracy(W, b, X, Y):\n",
    "    p = predict(W, b, X)\n",
    "    return 100 - np.sum(np.abs(p - Y))/Y.shape[1] * 100\n"
   ]
  },
  {
   "cell_type": "code",
   "execution_count": 75,
   "metadata": {},
   "outputs": [
    {
     "name": "stdout",
     "output_type": "stream",
     "text": [
      "Cost for training set: [[ 0.00146622]]\n",
      "Cost for test set: [[ 1.87176296]]\n",
      "Accuracy of training: 99.85353490285247\n",
      "Accuracy of training: 41.35212391856042\n"
     ]
    }
   ],
   "source": [
    "training_set_X = np.random.randn(10, 5)\n",
    "training_set_Y = np.array([[1, 0, 0, 1, 1]])\n",
    "test_set_X = np.random.randn(10, 5)\n",
    "test_set_Y = np.array([[1, 0, 0, 1, 1]])\n",
    "W = np.zeros([10, 1])\n",
    "b = np.zeros([1, 1])\n",
    "\n",
    "grad, features, c = optimize (W, b, training_set_X, training_set_Y, print_th_line=0)\n",
    "W = features['W']\n",
    "b = features['b']\n",
    "print (\"Cost for training set: {}\".format(c))\n",
    "print (\"Cost for test set: {}\".format(cost(predict(W, b, test_set_X), test_set_Y)))\n",
    "\n",
    "print (\"Accuracy of training: {}\".format(accuracy(W, b, training_set_X, Y)))\n",
    "print (\"Accuracy of training: {}\".format(accuracy(W, b, test_set_X, Y)))"
   ]
  },
  {
   "cell_type": "code",
   "execution_count": null,
   "metadata": {
    "collapsed": true
   },
   "outputs": [],
   "source": []
  }
 ],
 "metadata": {
  "kernelspec": {
   "display_name": "Python 3",
   "language": "python",
   "name": "python3"
  },
  "language_info": {
   "codemirror_mode": {
    "name": "ipython",
    "version": 3
   },
   "file_extension": ".py",
   "mimetype": "text/x-python",
   "name": "python",
   "nbconvert_exporter": "python",
   "pygments_lexer": "ipython3",
   "version": "3.6.3"
  }
 },
 "nbformat": 4,
 "nbformat_minor": 2
}
